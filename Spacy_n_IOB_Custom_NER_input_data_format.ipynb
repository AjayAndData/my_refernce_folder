{
 "cells": [
  {
   "cell_type": "markdown",
   "metadata": {},
   "source": [
    "# Import Libraries"
   ]
  },
  {
   "cell_type": "code",
   "execution_count": 142,
   "metadata": {
    "scrolled": true
   },
   "outputs": [],
   "source": [
    "import os              # looking for files under a folder\n",
    "import pandas as pd    # dataframe \n",
    "from tqdm import tqdm  # to get progress bar\n",
    "import re              # to get start and end position of string\n",
    "\n",
    "# To convert spacy NER data to IOB BERT NER data format\n",
    "import spacy \n",
    "from spacy.training import offsets_to_biluo_tags"
   ]
  },
  {
   "cell_type": "code",
   "execution_count": 2,
   "metadata": {},
   "outputs": [
    {
     "data": {
      "text/plain": [
       "'C:\\\\Users\\\\ajaya\\\\github_my_refernce'"
      ]
     },
     "execution_count": 2,
     "metadata": {},
     "output_type": "execute_result"
    }
   ],
   "source": [
    "os.getcwd()"
   ]
  },
  {
   "cell_type": "markdown",
   "metadata": {},
   "source": [
    "# Input Variables to be declared"
   ]
  },
  {
   "cell_type": "code",
   "execution_count": 41,
   "metadata": {},
   "outputs": [],
   "source": [
    "## Input var\n",
    "#1. #OCRed (Image and pdf), 2. text_plain file/ Email(For email file it needs to be coverted to txt)/Excel(need to be converted to text) \n",
    "# For now only for text files #########need to think about email and excel\n",
    "root_data_path = \"C:\\\\Users\\\\ajaya\\\\github_my_refernce\\\\data\\\\NER_data\\\\OCRed_txt_files\\\\\"\n",
    "entity_file_excel = r'C:\\Users\\ajaya\\github_my_refernce\\data\\NER_data\\ner_entity_labels.xlsx' # filename and each entity in each column and value as string\n",
    "sheet_name = 'Sheet1'\n",
    "entities = ['person','geo','post','mo_no'] # Make sure these names are same as entity file column names\n",
    "\n",
    "\n",
    "\n"
   ]
  },
  {
   "cell_type": "markdown",
   "metadata": {},
   "source": [
    "# Read files under a folder and read it with output as dataframe"
   ]
  },
  {
   "cell_type": "code",
   "execution_count": 51,
   "metadata": {},
   "outputs": [],
   "source": [
    "# read file\n",
    "def get_file_content(file_path):\n",
    "    with open(file_path) as f:\n",
    "        lines = f.readlines()\n",
    "    \n",
    "    #lines are in list form one element as one list\n",
    "    #join it to get all test in one line\n",
    "    one_line = ' '.join(lines)\n",
    "    \n",
    "    return one_line\n",
    "    \n",
    "## function to get details of files and its content in one df\n",
    "def read_root_txt_files(root_data_path):\n",
    "    cols = ['full_file_path', 'file_name']#,'content']\n",
    "    op_df = pd.DataFrame(columns = cols)\n",
    "    \n",
    "    # r=root, d=directories, f = files\n",
    "    for r, d, f in tqdm(os.walk(root_data_path)):\n",
    "        for file in f:\n",
    "            #if file.endswith(\".docx\"):\n",
    "            full_file_path = os.path.join(r, file)\n",
    "            print(full_file_path)\n",
    "            \n",
    "            op_df = op_df.append({'full_file_path': full_file_path, \n",
    "                                  'file_name': file,\n",
    "                                  'content': get_file_content(full_file_path)\n",
    "                                 }, ignore_index=True)\n",
    "    \n",
    "    return op_df"
   ]
  },
  {
   "cell_type": "code",
   "execution_count": 52,
   "metadata": {},
   "outputs": [
    {
     "name": "stderr",
     "output_type": "stream",
     "text": [
      "1it [00:00, 52.60it/s]"
     ]
    },
    {
     "name": "stdout",
     "output_type": "stream",
     "text": [
      "C:\\Users\\ajaya\\github_my_refernce\\data\\NER_data\\OCRed_txt_files\\1.txt\n",
      "C:\\Users\\ajaya\\github_my_refernce\\data\\NER_data\\OCRed_txt_files\\2.txt\n",
      "C:\\Users\\ajaya\\github_my_refernce\\data\\NER_data\\OCRed_txt_files\\3.txt\n",
      "C:\\Users\\ajaya\\github_my_refernce\\data\\NER_data\\OCRed_txt_files\\4.txt\n",
      "C:\\Users\\ajaya\\github_my_refernce\\data\\NER_data\\OCRed_txt_files\\5.txt\n",
      "C:\\Users\\ajaya\\github_my_refernce\\data\\NER_data\\OCRed_txt_files\\6.txt\n",
      "C:\\Users\\ajaya\\github_my_refernce\\data\\NER_data\\OCRed_txt_files\\7.txt\n"
     ]
    },
    {
     "name": "stderr",
     "output_type": "stream",
     "text": [
      "\n"
     ]
    },
    {
     "data": {
      "text/html": [
       "<div>\n",
       "<style scoped>\n",
       "    .dataframe tbody tr th:only-of-type {\n",
       "        vertical-align: middle;\n",
       "    }\n",
       "\n",
       "    .dataframe tbody tr th {\n",
       "        vertical-align: top;\n",
       "    }\n",
       "\n",
       "    .dataframe thead th {\n",
       "        text-align: right;\n",
       "    }\n",
       "</style>\n",
       "<table border=\"1\" class=\"dataframe\">\n",
       "  <thead>\n",
       "    <tr style=\"text-align: right;\">\n",
       "      <th></th>\n",
       "      <th>full_file_path</th>\n",
       "      <th>file_name</th>\n",
       "      <th>content</th>\n",
       "    </tr>\n",
       "  </thead>\n",
       "  <tbody>\n",
       "    <tr>\n",
       "      <th>0</th>\n",
       "      <td>C:\\Users\\ajaya\\github_my_refernce\\data\\NER_dat...</td>\n",
       "      <td>1.txt</td>\n",
       "      <td>Ajay is from the city of Pune. From last 2 yea...</td>\n",
       "    </tr>\n",
       "    <tr>\n",
       "      <th>1</th>\n",
       "      <td>C:\\Users\\ajaya\\github_my_refernce\\data\\NER_dat...</td>\n",
       "      <td>2.txt</td>\n",
       "      <td>Vijay is from the city of Pune. From last 2 ye...</td>\n",
       "    </tr>\n",
       "    <tr>\n",
       "      <th>2</th>\n",
       "      <td>C:\\Users\\ajaya\\github_my_refernce\\data\\NER_dat...</td>\n",
       "      <td>3.txt</td>\n",
       "      <td>Mohan is from the city of Pune. From last 2 ye...</td>\n",
       "    </tr>\n",
       "    <tr>\n",
       "      <th>3</th>\n",
       "      <td>C:\\Users\\ajaya\\github_my_refernce\\data\\NER_dat...</td>\n",
       "      <td>4.txt</td>\n",
       "      <td>Mohan is from the city of Pune. From last 2 ye...</td>\n",
       "    </tr>\n",
       "    <tr>\n",
       "      <th>4</th>\n",
       "      <td>C:\\Users\\ajaya\\github_my_refernce\\data\\NER_dat...</td>\n",
       "      <td>5.txt</td>\n",
       "      <td>Mohan is from the city of kolkattA. From last ...</td>\n",
       "    </tr>\n",
       "    <tr>\n",
       "      <th>5</th>\n",
       "      <td>C:\\Users\\ajaya\\github_my_refernce\\data\\NER_dat...</td>\n",
       "      <td>6.txt</td>\n",
       "      <td>Suku is from the city of kolkattA. From last 2...</td>\n",
       "    </tr>\n",
       "    <tr>\n",
       "      <th>6</th>\n",
       "      <td>C:\\Users\\ajaya\\github_my_refernce\\data\\NER_dat...</td>\n",
       "      <td>7.txt</td>\n",
       "      <td>Muku is from the city of kolkattA. From last 2...</td>\n",
       "    </tr>\n",
       "  </tbody>\n",
       "</table>\n",
       "</div>"
      ],
      "text/plain": [
       "                                      full_file_path file_name  \\\n",
       "0  C:\\Users\\ajaya\\github_my_refernce\\data\\NER_dat...     1.txt   \n",
       "1  C:\\Users\\ajaya\\github_my_refernce\\data\\NER_dat...     2.txt   \n",
       "2  C:\\Users\\ajaya\\github_my_refernce\\data\\NER_dat...     3.txt   \n",
       "3  C:\\Users\\ajaya\\github_my_refernce\\data\\NER_dat...     4.txt   \n",
       "4  C:\\Users\\ajaya\\github_my_refernce\\data\\NER_dat...     5.txt   \n",
       "5  C:\\Users\\ajaya\\github_my_refernce\\data\\NER_dat...     6.txt   \n",
       "6  C:\\Users\\ajaya\\github_my_refernce\\data\\NER_dat...     7.txt   \n",
       "\n",
       "                                             content  \n",
       "0  Ajay is from the city of Pune. From last 2 yea...  \n",
       "1  Vijay is from the city of Pune. From last 2 ye...  \n",
       "2  Mohan is from the city of Pune. From last 2 ye...  \n",
       "3  Mohan is from the city of Pune. From last 2 ye...  \n",
       "4  Mohan is from the city of kolkattA. From last ...  \n",
       "5  Suku is from the city of kolkattA. From last 2...  \n",
       "6  Muku is from the city of kolkattA. From last 2...  "
      ]
     },
     "execution_count": 52,
     "metadata": {},
     "output_type": "execute_result"
    }
   ],
   "source": [
    "read_df = read_root_txt_files(root_data_path)\n",
    "read_df"
   ]
  },
  {
   "cell_type": "markdown",
   "metadata": {},
   "source": [
    "# Read tagged entity file"
   ]
  },
  {
   "cell_type": "code",
   "execution_count": 53,
   "metadata": {},
   "outputs": [],
   "source": [
    "tag_entity_df = pd.read_excel(entity_file_excel, sheet_name=sheet_name)"
   ]
  },
  {
   "cell_type": "code",
   "execution_count": 54,
   "metadata": {},
   "outputs": [
    {
     "data": {
      "text/html": [
       "<div>\n",
       "<style scoped>\n",
       "    .dataframe tbody tr th:only-of-type {\n",
       "        vertical-align: middle;\n",
       "    }\n",
       "\n",
       "    .dataframe tbody tr th {\n",
       "        vertical-align: top;\n",
       "    }\n",
       "\n",
       "    .dataframe thead th {\n",
       "        text-align: right;\n",
       "    }\n",
       "</style>\n",
       "<table border=\"1\" class=\"dataframe\">\n",
       "  <thead>\n",
       "    <tr style=\"text-align: right;\">\n",
       "      <th></th>\n",
       "      <th>file_name</th>\n",
       "      <th>person</th>\n",
       "      <th>geo</th>\n",
       "      <th>post</th>\n",
       "      <th>mo_no</th>\n",
       "    </tr>\n",
       "  </thead>\n",
       "  <tbody>\n",
       "    <tr>\n",
       "      <th>0</th>\n",
       "      <td>1.txt</td>\n",
       "      <td>ajay</td>\n",
       "      <td>bangalore</td>\n",
       "      <td>data science</td>\n",
       "      <td>9.574875e+09</td>\n",
       "    </tr>\n",
       "    <tr>\n",
       "      <th>1</th>\n",
       "      <td>2.txt</td>\n",
       "      <td>vijay</td>\n",
       "      <td>NaN</td>\n",
       "      <td>analyst</td>\n",
       "      <td>NaN</td>\n",
       "    </tr>\n",
       "    <tr>\n",
       "      <th>2</th>\n",
       "      <td>3.txt</td>\n",
       "      <td>mohan</td>\n",
       "      <td>NaN</td>\n",
       "      <td>devops</td>\n",
       "      <td>NaN</td>\n",
       "    </tr>\n",
       "    <tr>\n",
       "      <th>3</th>\n",
       "      <td>4.txt</td>\n",
       "      <td>NaN</td>\n",
       "      <td>pune</td>\n",
       "      <td>Power BI Developer</td>\n",
       "      <td>1.457847e+09</td>\n",
       "    </tr>\n",
       "    <tr>\n",
       "      <th>4</th>\n",
       "      <td>5.txt</td>\n",
       "      <td>NaN</td>\n",
       "      <td>kolkatta</td>\n",
       "      <td>NaN</td>\n",
       "      <td>NaN</td>\n",
       "    </tr>\n",
       "    <tr>\n",
       "      <th>5</th>\n",
       "      <td>6.txt</td>\n",
       "      <td>suku</td>\n",
       "      <td>NaN</td>\n",
       "      <td>java developer</td>\n",
       "      <td>NaN</td>\n",
       "    </tr>\n",
       "    <tr>\n",
       "      <th>6</th>\n",
       "      <td>7.txt</td>\n",
       "      <td>muku</td>\n",
       "      <td>mumbai</td>\n",
       "      <td>NaN</td>\n",
       "      <td>2.144563e+09</td>\n",
       "    </tr>\n",
       "  </tbody>\n",
       "</table>\n",
       "</div>"
      ],
      "text/plain": [
       "  file_name person        geo                post         mo_no\n",
       "0     1.txt   ajay  bangalore        data science  9.574875e+09\n",
       "1     2.txt  vijay        NaN             analyst           NaN\n",
       "2     3.txt  mohan        NaN              devops           NaN\n",
       "3     4.txt    NaN       pune  Power BI Developer  1.457847e+09\n",
       "4     5.txt    NaN   kolkatta                 NaN           NaN\n",
       "5     6.txt   suku        NaN      java developer           NaN\n",
       "6     7.txt   muku     mumbai                 NaN  2.144563e+09"
      ]
     },
     "execution_count": 54,
     "metadata": {},
     "output_type": "execute_result"
    }
   ],
   "source": [
    "tag_entity_df.head(10)"
   ]
  },
  {
   "cell_type": "markdown",
   "metadata": {},
   "source": [
    "# Create NER data input format for Spacy\n",
    "https://1.bp.blogspot.com/-VVOd5rDWsEQ/XhTSleznIUI/AAAAAAAAB6Y/z_ZNyIiwjL4Fzshqa4e6-1YeKR2zvatiQCLcBGAsYHQ/s1600/image002.jpg"
   ]
  },
  {
   "cell_type": "markdown",
   "metadata": {},
   "source": [
    "## Join files and entity dataframes"
   ]
  },
  {
   "cell_type": "code",
   "execution_count": 104,
   "metadata": {},
   "outputs": [
    {
     "data": {
      "text/html": [
       "<div>\n",
       "<style scoped>\n",
       "    .dataframe tbody tr th:only-of-type {\n",
       "        vertical-align: middle;\n",
       "    }\n",
       "\n",
       "    .dataframe tbody tr th {\n",
       "        vertical-align: top;\n",
       "    }\n",
       "\n",
       "    .dataframe thead th {\n",
       "        text-align: right;\n",
       "    }\n",
       "</style>\n",
       "<table border=\"1\" class=\"dataframe\">\n",
       "  <thead>\n",
       "    <tr style=\"text-align: right;\">\n",
       "      <th></th>\n",
       "      <th>full_file_path</th>\n",
       "      <th>file_name</th>\n",
       "      <th>content</th>\n",
       "      <th>person</th>\n",
       "      <th>geo</th>\n",
       "      <th>post</th>\n",
       "      <th>mo_no</th>\n",
       "    </tr>\n",
       "  </thead>\n",
       "  <tbody>\n",
       "    <tr>\n",
       "      <th>0</th>\n",
       "      <td>C:\\Users\\ajaya\\github_my_refernce\\data\\NER_dat...</td>\n",
       "      <td>1.txt</td>\n",
       "      <td>Ajay is from the city of Pune. From last 2 yea...</td>\n",
       "      <td>ajay</td>\n",
       "      <td>bangalore</td>\n",
       "      <td>data science</td>\n",
       "      <td>9.574875e+09</td>\n",
       "    </tr>\n",
       "    <tr>\n",
       "      <th>1</th>\n",
       "      <td>C:\\Users\\ajaya\\github_my_refernce\\data\\NER_dat...</td>\n",
       "      <td>2.txt</td>\n",
       "      <td>Vijay is from the city of Pune. From last 2 ye...</td>\n",
       "      <td>vijay</td>\n",
       "      <td>NaN</td>\n",
       "      <td>analyst</td>\n",
       "      <td>NaN</td>\n",
       "    </tr>\n",
       "    <tr>\n",
       "      <th>2</th>\n",
       "      <td>C:\\Users\\ajaya\\github_my_refernce\\data\\NER_dat...</td>\n",
       "      <td>3.txt</td>\n",
       "      <td>Mohan is from the city of Pune. From last 2 ye...</td>\n",
       "      <td>mohan</td>\n",
       "      <td>NaN</td>\n",
       "      <td>devops</td>\n",
       "      <td>NaN</td>\n",
       "    </tr>\n",
       "    <tr>\n",
       "      <th>3</th>\n",
       "      <td>C:\\Users\\ajaya\\github_my_refernce\\data\\NER_dat...</td>\n",
       "      <td>4.txt</td>\n",
       "      <td>Mohan is from the city of Pune. From last 2 ye...</td>\n",
       "      <td>NaN</td>\n",
       "      <td>pune</td>\n",
       "      <td>Power BI Developer</td>\n",
       "      <td>1.457847e+09</td>\n",
       "    </tr>\n",
       "    <tr>\n",
       "      <th>4</th>\n",
       "      <td>C:\\Users\\ajaya\\github_my_refernce\\data\\NER_dat...</td>\n",
       "      <td>5.txt</td>\n",
       "      <td>Mohan is from the city of kolkattA. From last ...</td>\n",
       "      <td>NaN</td>\n",
       "      <td>kolkatta</td>\n",
       "      <td>NaN</td>\n",
       "      <td>NaN</td>\n",
       "    </tr>\n",
       "    <tr>\n",
       "      <th>5</th>\n",
       "      <td>C:\\Users\\ajaya\\github_my_refernce\\data\\NER_dat...</td>\n",
       "      <td>6.txt</td>\n",
       "      <td>Suku is from the city of kolkattA. From last 2...</td>\n",
       "      <td>suku</td>\n",
       "      <td>NaN</td>\n",
       "      <td>java developer</td>\n",
       "      <td>NaN</td>\n",
       "    </tr>\n",
       "    <tr>\n",
       "      <th>6</th>\n",
       "      <td>C:\\Users\\ajaya\\github_my_refernce\\data\\NER_dat...</td>\n",
       "      <td>7.txt</td>\n",
       "      <td>Muku is from the city of kolkattA. From last 2...</td>\n",
       "      <td>muku</td>\n",
       "      <td>mumbai</td>\n",
       "      <td>NaN</td>\n",
       "      <td>2.144563e+09</td>\n",
       "    </tr>\n",
       "  </tbody>\n",
       "</table>\n",
       "</div>"
      ],
      "text/plain": [
       "                                      full_file_path file_name  \\\n",
       "0  C:\\Users\\ajaya\\github_my_refernce\\data\\NER_dat...     1.txt   \n",
       "1  C:\\Users\\ajaya\\github_my_refernce\\data\\NER_dat...     2.txt   \n",
       "2  C:\\Users\\ajaya\\github_my_refernce\\data\\NER_dat...     3.txt   \n",
       "3  C:\\Users\\ajaya\\github_my_refernce\\data\\NER_dat...     4.txt   \n",
       "4  C:\\Users\\ajaya\\github_my_refernce\\data\\NER_dat...     5.txt   \n",
       "5  C:\\Users\\ajaya\\github_my_refernce\\data\\NER_dat...     6.txt   \n",
       "6  C:\\Users\\ajaya\\github_my_refernce\\data\\NER_dat...     7.txt   \n",
       "\n",
       "                                             content person        geo  \\\n",
       "0  Ajay is from the city of Pune. From last 2 yea...   ajay  bangalore   \n",
       "1  Vijay is from the city of Pune. From last 2 ye...  vijay        NaN   \n",
       "2  Mohan is from the city of Pune. From last 2 ye...  mohan        NaN   \n",
       "3  Mohan is from the city of Pune. From last 2 ye...    NaN       pune   \n",
       "4  Mohan is from the city of kolkattA. From last ...    NaN   kolkatta   \n",
       "5  Suku is from the city of kolkattA. From last 2...   suku        NaN   \n",
       "6  Muku is from the city of kolkattA. From last 2...   muku     mumbai   \n",
       "\n",
       "                 post         mo_no  \n",
       "0        data science  9.574875e+09  \n",
       "1             analyst           NaN  \n",
       "2              devops           NaN  \n",
       "3  Power BI Developer  1.457847e+09  \n",
       "4                 NaN           NaN  \n",
       "5      java developer           NaN  \n",
       "6                 NaN  2.144563e+09  "
      ]
     },
     "execution_count": 104,
     "metadata": {},
     "output_type": "execute_result"
    }
   ],
   "source": [
    "df_files_entity = read_df.merge(tag_entity_df, on='file_name', how='left')\n",
    "df_files_entity.head(10)"
   ]
  },
  {
   "cell_type": "code",
   "execution_count": 111,
   "metadata": {},
   "outputs": [
    {
     "data": {
      "text/html": [
       "<div>\n",
       "<style scoped>\n",
       "    .dataframe tbody tr th:only-of-type {\n",
       "        vertical-align: middle;\n",
       "    }\n",
       "\n",
       "    .dataframe tbody tr th {\n",
       "        vertical-align: top;\n",
       "    }\n",
       "\n",
       "    .dataframe thead th {\n",
       "        text-align: right;\n",
       "    }\n",
       "</style>\n",
       "<table border=\"1\" class=\"dataframe\">\n",
       "  <thead>\n",
       "    <tr style=\"text-align: right;\">\n",
       "      <th></th>\n",
       "      <th>full_file_path</th>\n",
       "      <th>file_name</th>\n",
       "      <th>content</th>\n",
       "      <th>person</th>\n",
       "      <th>geo</th>\n",
       "      <th>post</th>\n",
       "      <th>mo_no</th>\n",
       "    </tr>\n",
       "  </thead>\n",
       "  <tbody>\n",
       "    <tr>\n",
       "      <th>0</th>\n",
       "      <td>C:\\Users\\ajaya\\github_my_refernce\\data\\NER_dat...</td>\n",
       "      <td>1.txt</td>\n",
       "      <td>Ajay is from the city of Pune. From last 2 yea...</td>\n",
       "      <td>ajay</td>\n",
       "      <td>bangalore</td>\n",
       "      <td>data science</td>\n",
       "      <td>-2147483648</td>\n",
       "    </tr>\n",
       "    <tr>\n",
       "      <th>1</th>\n",
       "      <td>C:\\Users\\ajaya\\github_my_refernce\\data\\NER_dat...</td>\n",
       "      <td>2.txt</td>\n",
       "      <td>Vijay is from the city of Pune. From last 2 ye...</td>\n",
       "      <td>vijay</td>\n",
       "      <td>NaN</td>\n",
       "      <td>analyst</td>\n",
       "      <td>0</td>\n",
       "    </tr>\n",
       "    <tr>\n",
       "      <th>2</th>\n",
       "      <td>C:\\Users\\ajaya\\github_my_refernce\\data\\NER_dat...</td>\n",
       "      <td>3.txt</td>\n",
       "      <td>Mohan is from the city of Pune. From last 2 ye...</td>\n",
       "      <td>mohan</td>\n",
       "      <td>NaN</td>\n",
       "      <td>devops</td>\n",
       "      <td>0</td>\n",
       "    </tr>\n",
       "    <tr>\n",
       "      <th>3</th>\n",
       "      <td>C:\\Users\\ajaya\\github_my_refernce\\data\\NER_dat...</td>\n",
       "      <td>4.txt</td>\n",
       "      <td>Mohan is from the city of Pune. From last 2 ye...</td>\n",
       "      <td>NaN</td>\n",
       "      <td>pune</td>\n",
       "      <td>Power BI Developer</td>\n",
       "      <td>1457846872</td>\n",
       "    </tr>\n",
       "    <tr>\n",
       "      <th>4</th>\n",
       "      <td>C:\\Users\\ajaya\\github_my_refernce\\data\\NER_dat...</td>\n",
       "      <td>5.txt</td>\n",
       "      <td>Mohan is from the city of kolkattA. From last ...</td>\n",
       "      <td>NaN</td>\n",
       "      <td>kolkatta</td>\n",
       "      <td>NaN</td>\n",
       "      <td>0</td>\n",
       "    </tr>\n",
       "  </tbody>\n",
       "</table>\n",
       "</div>"
      ],
      "text/plain": [
       "                                      full_file_path file_name  \\\n",
       "0  C:\\Users\\ajaya\\github_my_refernce\\data\\NER_dat...     1.txt   \n",
       "1  C:\\Users\\ajaya\\github_my_refernce\\data\\NER_dat...     2.txt   \n",
       "2  C:\\Users\\ajaya\\github_my_refernce\\data\\NER_dat...     3.txt   \n",
       "3  C:\\Users\\ajaya\\github_my_refernce\\data\\NER_dat...     4.txt   \n",
       "4  C:\\Users\\ajaya\\github_my_refernce\\data\\NER_dat...     5.txt   \n",
       "\n",
       "                                             content person        geo  \\\n",
       "0  Ajay is from the city of Pune. From last 2 yea...   ajay  bangalore   \n",
       "1  Vijay is from the city of Pune. From last 2 ye...  vijay        NaN   \n",
       "2  Mohan is from the city of Pune. From last 2 ye...  mohan        NaN   \n",
       "3  Mohan is from the city of Pune. From last 2 ye...    NaN       pune   \n",
       "4  Mohan is from the city of kolkattA. From last ...    NaN   kolkatta   \n",
       "\n",
       "                 post       mo_no  \n",
       "0        data science -2147483648  \n",
       "1             analyst           0  \n",
       "2              devops           0  \n",
       "3  Power BI Developer  1457846872  \n",
       "4                 NaN           0  "
      ]
     },
     "execution_count": 111,
     "metadata": {},
     "output_type": "execute_result"
    }
   ],
   "source": [
    "df_files_entity['mo_no'] = df_files_entity['mo_no'].fillna(0)\n",
    "df_files_entity['mo_no'] = df_files_entity['mo_no'].astype('int')\n",
    "df_files_entity.head()"
   ]
  },
  {
   "cell_type": "code",
   "execution_count": 105,
   "metadata": {},
   "outputs": [
    {
     "data": {
      "text/plain": [
       "'Ajay is from the city of Pune. From last 2 years he has shifted to bangalore city.bangalore is really good city and there are not pythons here.I request Ajay A to shift to pune if possible. He is a data science person.There is really high demand in market of data science. I hope every one will get in touch with me soon on the 9574875143 this number. This is not my personal number so dont call. Hahaha\\n \\n'"
      ]
     },
     "execution_count": 105,
     "metadata": {},
     "output_type": "execute_result"
    }
   ],
   "source": [
    "df_files_entity['content'][0]"
   ]
  },
  {
   "cell_type": "markdown",
   "metadata": {},
   "source": [
    "## Search entities in text_content and get start and end position"
   ]
  },
  {
   "cell_type": "code",
   "execution_count": 106,
   "metadata": {},
   "outputs": [],
   "source": [
    "def get_search_entity(text, pattern, entity_name):\n",
    "    entity_dict = {}\n",
    "    for match in re.finditer(pattern, text):\n",
    "        s = match.start()\n",
    "        e = match.end()\n",
    "        #print ('String match \"',s1[s:e],'\" at', s,':', e)\n",
    "        print(s,e,entity_name)\n",
    "        "
   ]
  },
  {
   "cell_type": "code",
   "execution_count": 73,
   "metadata": {},
   "outputs": [
    {
     "name": "stdout",
     "output_type": "stream",
     "text": [
      "198 210 post\n",
      "259 271 post\n"
     ]
    }
   ],
   "source": [
    "text = df_files_entity['content'][0].lower()\n",
    "pattern = df_files_entity['post'][0].lower()\n",
    "entity_name = 'post'\n",
    "\n",
    "get_search_entity(text, pattern, entity_name)"
   ]
  },
  {
   "cell_type": "code",
   "execution_count": 107,
   "metadata": {},
   "outputs": [
    {
     "data": {
      "text/plain": [
       "7"
      ]
     },
     "execution_count": 107,
     "metadata": {},
     "output_type": "execute_result"
    }
   ],
   "source": [
    "len(df_files_entity)"
   ]
  },
  {
   "cell_type": "markdown",
   "metadata": {},
   "source": [
    "## Create spacy format"
   ]
  },
  {
   "cell_type": "code",
   "execution_count": 130,
   "metadata": {},
   "outputs": [],
   "source": [
    "# Prepare spacy formatted training data\n",
    "def spacy_data_format(data, ents, txt_col):\n",
    "    TRAIN_DATA = []\n",
    "    ent_list = []\n",
    "    for row in range(len(data)):\n",
    "        #print(row)\n",
    "        ent_list_sen = []\n",
    "        for entity_name in ents:\n",
    "            #print(entity_name)\n",
    "            pattern = str(data[entity_name][row]).lower()\n",
    "            for match in re.finditer(pattern, data[txt_col][row].lower()):\n",
    "                s = match.start()\n",
    "                e = match.end()\n",
    "                ent_list_sen.append(((s),(e),entity_name))\n",
    "        ent_list.append(ent_list_sen)\n",
    "        ## Create blank dictionary\n",
    "        ent_dic = {}\n",
    "        ## Fill value to the dictionary\n",
    "        ent_dic['entities'] = ent_list_sen\n",
    "        ## Prepare final training data\n",
    "        TRAIN_DATA.append((data[txt_col][row],ent_dic))\n",
    "        \n",
    "    return TRAIN_DATA"
   ]
  },
  {
   "cell_type": "code",
   "execution_count": 133,
   "metadata": {},
   "outputs": [
    {
     "data": {
      "text/plain": [
       "[('Ajay is from the city of Pune. From last 2 years he has shifted to bangalore city.bangalore is really good city and there are not pythons here.I request Ajay A to shift to pune if possible. He is a data science person.There is really high demand in market of data science. I hope every one will get in touch with me soon on the 9574875143 this number. This is not my personal number so dont call. Hahaha\\n \\n',\n",
       "  {'entities': [(0, 4, 'person'),\n",
       "    (153, 157, 'person'),\n",
       "    (67, 76, 'geo'),\n",
       "    (82, 91, 'geo'),\n",
       "    (198, 210, 'post'),\n",
       "    (259, 271, 'post')]}),\n",
       " ('Vijay is from the city of Pune. From last 2 years he has shifted to bangalore city.bangalore is really good city and there are not pythons here.I request Ajay A to shift to pune if possible. He is a data analyst person.There is really high demand in market of data science. I hope every one will get in touch with me soon on the this number. This is not my personal number so dont call. Hahaha\\n \\n',\n",
       "  {'entities': [(0, 5, 'person'), (204, 211, 'post')]}),\n",
       " ('Mohan is from the city of Pune. From last 2 years he has shifted to bangalore city.bangalore is really good city and there are not pythons here.I request mohaN A to shift to pune if possible. He is a devOps science person.There is really high demand in market of data science. I hope every one will get in touch with me soon on the 9574875143 this number. This is not my personal number so dont call. Hahaha',\n",
       "  {'entities': [(0, 5, 'person'), (154, 159, 'person'), (200, 206, 'post')]}),\n",
       " ('Mohan is from the city of Pune. From last 2 years he has shifted to bangalore city.bangalore is really good city and there are not pythons here.I request mohaN A to shift to pune if possible. He is a power bi developer person.There is really high demand in market of data science. I hope every one will get in touch with me soon on the 1457846872 this number. This is not my personal number so dont call. Hahaha',\n",
       "  {'entities': [(26, 30, 'geo'),\n",
       "    (174, 178, 'geo'),\n",
       "    (200, 218, 'post'),\n",
       "    (336, 346, 'mo_no')]}),\n",
       " ('Mohan is from the city of kolkattA. From last 2 years he has shifted to bangalore city.bangalore is really good city and there are not pythons here.I request mohaN A to shift to kolkatta if possible. He is a power bi developer person.There is really high demand in market of data science. I hope every one will get in touch with me soon on the 1457846872 this number. This is not my personal number so dont call. Hahaha',\n",
       "  {'entities': [(26, 34, 'geo'), (178, 186, 'geo')]}),\n",
       " ('Suku is from the city of kolkattA. From last 2 years he has shifted to bangalore city.bangalore is really good city and there are not pythons here.I request SukU A to shift to kolkatta if possible. He is a java developer person.There is really high demand in market of data science. I hope every one will get in touch with me soon on the 1457846872 java this number. This is not developer my personal number so dont call. Hahaha',\n",
       "  {'entities': [(0, 4, 'person'), (157, 161, 'person'), (206, 220, 'post')]}),\n",
       " ('Muku is from the city of kolkattA. From last 2 years he has shifted to bombay city.bangalore is really good city and there are not pythons here.I request SukU A to shift to Mumbai if possible. He is a java developer person.There is really high demand in market of data science. I hope every one will get in touch with me soon on the 2144562745 java this number. This is not developer my personal number so dont call. Hahaha',\n",
       "  {'entities': [(0, 4, 'person'), (173, 179, 'geo'), (333, 343, 'mo_no')]})]"
      ]
     },
     "execution_count": 133,
     "metadata": {},
     "output_type": "execute_result"
    }
   ],
   "source": [
    "spacy_ner_data = spacy_data_format(df_files_entity, entities, txt_col = 'content')\n",
    "spacy_ner_data"
   ]
  },
  {
   "cell_type": "markdown",
   "metadata": {},
   "source": [
    "# Convert Spacy NER data to IOB / BERT NER data format"
   ]
  },
  {
   "cell_type": "code",
   "execution_count": 185,
   "metadata": {},
   "outputs": [
    {
     "name": "stdout",
     "output_type": "stream",
     "text": [
      "{'id': 0, 'paragraphs': [{'raw': 'Ajay is from the city of Pune. From last 2 years he has shifted to bangalore city.bangalore is really good city and there are not pythons here.I request Ajay A to shift to pune if possible. He is a data science person.There is really high demand in market of data science. I hope every one will get in touch with me soon on the 9574875143 this number. This is not my personal number so dont call. Hahaha\\n \\n', 'sentences': [{'tokens': [{'id': 0, 'orth': 'Ajay', 'space': ' ', 'tag': 'NNP', 'pos': 'PROPN', 'morph': 'Number=Sing', 'lemma': 'Ajay', 'head': 1, 'dep': 'nsubj', 'ner': 'U-person'}, {'id': 1, 'orth': 'is', 'space': ' ', 'tag': 'VBZ', 'pos': 'AUX', 'morph': 'Mood=Ind|Number=Sing|Person=3|Tense=Pres|VerbForm=Fin', 'lemma': 'be', 'head': 0, 'dep': 'ROOT', 'ner': 'O'}, {'id': 2, 'orth': 'from', 'space': ' ', 'tag': 'IN', 'pos': 'ADP', 'morph': '', 'lemma': 'from', 'head': -1, 'dep': 'prep', 'ner': 'O'}, {'id': 3, 'orth': 'the', 'space': ' ', 'tag': 'DT', 'pos': 'DET', 'morph': 'Definite=Def|PronType=Art', 'lemma': 'the', 'head': 1, 'dep': 'det', 'ner': 'O'}, {'id': 4, 'orth': 'city', 'space': ' ', 'tag': 'NN', 'pos': 'NOUN', 'morph': 'Number=Sing', 'lemma': 'city', 'head': -2, 'dep': 'pobj', 'ner': 'O'}, {'id': 5, 'orth': 'of', 'space': ' ', 'tag': 'IN', 'pos': 'ADP', 'morph': '', 'lemma': 'of', 'head': -1, 'dep': 'prep', 'ner': 'O'}, {'id': 6, 'orth': 'Pune', 'space': '', 'tag': 'NNP', 'pos': 'PROPN', 'morph': 'Number=Sing', 'lemma': 'Pune', 'head': -1, 'dep': 'pobj', 'ner': 'O'}, {'id': 7, 'orth': '.', 'space': ' ', 'tag': '.', 'pos': 'PUNCT', 'morph': 'PunctType=Peri', 'lemma': '.', 'head': -6, 'dep': 'punct', 'ner': 'O'}], 'brackets': []}, {'tokens': [{'id': 8, 'orth': 'From', 'space': ' ', 'tag': 'IN', 'pos': 'ADP', 'morph': '', 'lemma': 'from', 'head': 6, 'dep': 'prep', 'ner': 'O'}, {'id': 9, 'orth': 'last', 'space': ' ', 'tag': 'JJ', 'pos': 'ADJ', 'morph': 'Degree=Pos', 'lemma': 'last', 'head': 2, 'dep': 'amod', 'ner': 'O'}, {'id': 10, 'orth': '2', 'space': ' ', 'tag': 'CD', 'pos': 'NUM', 'morph': 'NumType=Card', 'lemma': '2', 'head': 1, 'dep': 'nummod', 'ner': 'O'}, {'id': 11, 'orth': 'years', 'space': ' ', 'tag': 'NNS', 'pos': 'NOUN', 'morph': 'Number=Plur', 'lemma': 'year', 'head': -3, 'dep': 'pobj', 'ner': 'O'}, {'id': 12, 'orth': 'he', 'space': ' ', 'tag': 'PRP', 'pos': 'PRON', 'morph': 'Case=Nom|Gender=Masc|Number=Sing|Person=3|PronType=Prs', 'lemma': 'he', 'head': 2, 'dep': 'nsubj', 'ner': 'O'}, {'id': 13, 'orth': 'has', 'space': ' ', 'tag': 'VBZ', 'pos': 'AUX', 'morph': 'Mood=Ind|Number=Sing|Person=3|Tense=Pres|VerbForm=Fin', 'lemma': 'have', 'head': 1, 'dep': 'aux', 'ner': 'O'}, {'id': 14, 'orth': 'shifted', 'space': ' ', 'tag': 'VBN', 'pos': 'VERB', 'morph': 'Aspect=Perf|Tense=Past|VerbForm=Part', 'lemma': 'shift', 'head': 0, 'dep': 'ROOT', 'ner': 'O'}, {'id': 15, 'orth': 'to', 'space': ' ', 'tag': 'TO', 'pos': 'PART', 'morph': '', 'lemma': 'to', 'head': 1, 'dep': 'aux', 'ner': 'O'}, {'id': 16, 'orth': 'bangalore', 'space': ' ', 'tag': 'VB', 'pos': 'VERB', 'morph': 'VerbForm=Inf', 'lemma': 'bangalore', 'head': -2, 'dep': 'xcomp', 'ner': 'U-geo'}, {'id': 17, 'orth': 'city.bangalore', 'space': ' ', 'tag': 'XX', 'pos': 'X', 'morph': '', 'lemma': 'city.bangalore', 'head': -1, 'dep': 'dobj', 'ner': 'O'}, {'id': 18, 'orth': 'is', 'space': ' ', 'tag': 'VBZ', 'pos': 'AUX', 'morph': 'Mood=Ind|Number=Sing|Person=3|Tense=Pres|VerbForm=Fin', 'lemma': 'be', 'head': -4, 'dep': 'conj', 'ner': 'O'}, {'id': 19, 'orth': 'really', 'space': ' ', 'tag': 'RB', 'pos': 'ADV', 'morph': '', 'lemma': 'really', 'head': -1, 'dep': 'advmod', 'ner': 'O'}, {'id': 20, 'orth': 'good', 'space': ' ', 'tag': 'JJ', 'pos': 'ADJ', 'morph': 'Degree=Pos', 'lemma': 'good', 'head': 1, 'dep': 'amod', 'ner': 'O'}, {'id': 21, 'orth': 'city', 'space': ' ', 'tag': 'NN', 'pos': 'NOUN', 'morph': 'Number=Sing', 'lemma': 'city', 'head': -3, 'dep': 'attr', 'ner': 'O'}, {'id': 22, 'orth': 'and', 'space': ' ', 'tag': 'CC', 'pos': 'CCONJ', 'morph': 'ConjType=Cmp', 'lemma': 'and', 'head': -8, 'dep': 'cc', 'ner': 'O'}, {'id': 23, 'orth': 'there', 'space': ' ', 'tag': 'EX', 'pos': 'PRON', 'morph': '', 'lemma': 'there', 'head': 1, 'dep': 'expl', 'ner': 'O'}, {'id': 24, 'orth': 'are', 'space': ' ', 'tag': 'VBP', 'pos': 'VERB', 'morph': 'Mood=Ind|Tense=Pres|VerbForm=Fin', 'lemma': 'be', 'head': -10, 'dep': 'conj', 'ner': 'O'}, {'id': 25, 'orth': 'not', 'space': ' ', 'tag': 'RB', 'pos': 'PART', 'morph': 'Polarity=Neg', 'lemma': 'not', 'head': -1, 'dep': 'neg', 'ner': 'O'}, {'id': 26, 'orth': 'pythons', 'space': ' ', 'tag': 'NNS', 'pos': 'NOUN', 'morph': 'Number=Plur', 'lemma': 'python', 'head': -2, 'dep': 'attr', 'ner': 'O'}, {'id': 27, 'orth': 'here', 'space': '', 'tag': 'RB', 'pos': 'ADV', 'morph': 'PronType=Dem', 'lemma': 'here', 'head': -1, 'dep': 'advmod', 'ner': 'O'}, {'id': 28, 'orth': '.', 'space': '', 'tag': '.', 'pos': 'PUNCT', 'morph': 'PunctType=Peri', 'lemma': '.', 'head': -14, 'dep': 'punct', 'ner': 'O'}], 'brackets': []}, {'tokens': [{'id': 29, 'orth': 'I', 'space': ' ', 'tag': 'PRP', 'pos': 'PRON', 'morph': 'Case=Nom|Number=Sing|Person=1|PronType=Prs', 'lemma': 'I', 'head': 1, 'dep': 'nsubj', 'ner': 'O'}, {'id': 30, 'orth': 'request', 'space': ' ', 'tag': 'VBP', 'pos': 'VERB', 'morph': 'Tense=Pres|VerbForm=Fin', 'lemma': 'request', 'head': 0, 'dep': 'ROOT', 'ner': 'O'}, {'id': 31, 'orth': 'Ajay', 'space': ' ', 'tag': 'NNP', 'pos': 'PROPN', 'morph': 'Number=Sing', 'lemma': 'Ajay', 'head': 1, 'dep': 'compound', 'ner': 'U-person'}, {'id': 32, 'orth': 'A', 'space': ' ', 'tag': 'NN', 'pos': 'NOUN', 'morph': 'Number=Sing', 'lemma': 'a', 'head': -2, 'dep': 'dobj', 'ner': 'O'}, {'id': 33, 'orth': 'to', 'space': ' ', 'tag': 'TO', 'pos': 'PART', 'morph': '', 'lemma': 'to', 'head': 1, 'dep': 'aux', 'ner': 'O'}, {'id': 34, 'orth': 'shift', 'space': ' ', 'tag': 'VB', 'pos': 'VERB', 'morph': 'VerbForm=Inf', 'lemma': 'shift', 'head': -4, 'dep': 'xcomp', 'ner': 'O'}, {'id': 35, 'orth': 'to', 'space': ' ', 'tag': 'IN', 'pos': 'ADP', 'morph': '', 'lemma': 'to', 'head': -1, 'dep': 'prep', 'ner': 'O'}, {'id': 36, 'orth': 'pune', 'space': ' ', 'tag': 'NN', 'pos': 'NOUN', 'morph': 'Number=Sing', 'lemma': 'pune', 'head': -1, 'dep': 'pobj', 'ner': 'O'}, {'id': 37, 'orth': 'if', 'space': ' ', 'tag': 'IN', 'pos': 'SCONJ', 'morph': '', 'lemma': 'if', 'head': 1, 'dep': 'mark', 'ner': 'O'}, {'id': 38, 'orth': 'possible', 'space': '', 'tag': 'JJ', 'pos': 'ADJ', 'morph': 'Degree=Pos', 'lemma': 'possible', 'head': -4, 'dep': 'advcl', 'ner': 'O'}, {'id': 39, 'orth': '.', 'space': ' ', 'tag': '.', 'pos': 'PUNCT', 'morph': 'PunctType=Peri', 'lemma': '.', 'head': -9, 'dep': 'punct', 'ner': 'O'}], 'brackets': []}, {'tokens': [{'id': 40, 'orth': 'He', 'space': ' ', 'tag': 'PRP', 'pos': 'PRON', 'morph': 'Case=Nom|Gender=Masc|Number=Sing|Person=3|PronType=Prs', 'lemma': 'he', 'head': 1, 'dep': 'nsubj', 'ner': 'O'}, {'id': 41, 'orth': 'is', 'space': ' ', 'tag': 'VBZ', 'pos': 'AUX', 'morph': 'Mood=Ind|Number=Sing|Person=3|Tense=Pres|VerbForm=Fin', 'lemma': 'be', 'head': 0, 'dep': 'ROOT', 'ner': 'O'}, {'id': 42, 'orth': 'a', 'space': ' ', 'tag': 'DT', 'pos': 'DET', 'morph': 'Definite=Ind|PronType=Art', 'lemma': 'a', 'head': 3, 'dep': 'det', 'ner': 'O'}, {'id': 43, 'orth': 'data', 'space': ' ', 'tag': 'NNS', 'pos': 'NOUN', 'morph': 'Number=Plur', 'lemma': 'datum', 'head': 1, 'dep': 'compound', 'ner': 'B-post'}, {'id': 44, 'orth': 'science', 'space': ' ', 'tag': 'NN', 'pos': 'NOUN', 'morph': 'Number=Sing', 'lemma': 'science', 'head': 1, 'dep': 'compound', 'ner': 'L-post'}, {'id': 45, 'orth': 'person', 'space': '', 'tag': 'NN', 'pos': 'NOUN', 'morph': 'Number=Sing', 'lemma': 'person', 'head': -4, 'dep': 'attr', 'ner': 'O'}, {'id': 46, 'orth': '.', 'space': '', 'tag': '.', 'pos': 'PUNCT', 'morph': 'PunctType=Peri', 'lemma': '.', 'head': -5, 'dep': 'punct', 'ner': 'O'}], 'brackets': []}, {'tokens': [{'id': 47, 'orth': 'There', 'space': ' ', 'tag': 'EX', 'pos': 'PRON', 'morph': '', 'lemma': 'there', 'head': 1, 'dep': 'expl', 'ner': 'O'}, {'id': 48, 'orth': 'is', 'space': ' ', 'tag': 'VBZ', 'pos': 'VERB', 'morph': 'Mood=Ind|Number=Sing|Person=3|Tense=Pres|VerbForm=Fin', 'lemma': 'be', 'head': 0, 'dep': 'ROOT', 'ner': 'O'}, {'id': 49, 'orth': 'really', 'space': ' ', 'tag': 'RB', 'pos': 'ADV', 'morph': '', 'lemma': 'really', 'head': 1, 'dep': 'advmod', 'ner': 'O'}, {'id': 50, 'orth': 'high', 'space': ' ', 'tag': 'JJ', 'pos': 'ADJ', 'morph': 'Degree=Pos', 'lemma': 'high', 'head': 1, 'dep': 'amod', 'ner': 'O'}, {'id': 51, 'orth': 'demand', 'space': ' ', 'tag': 'NN', 'pos': 'NOUN', 'morph': 'Number=Sing', 'lemma': 'demand', 'head': -3, 'dep': 'attr', 'ner': 'O'}, {'id': 52, 'orth': 'in', 'space': ' ', 'tag': 'IN', 'pos': 'ADP', 'morph': '', 'lemma': 'in', 'head': -1, 'dep': 'prep', 'ner': 'O'}, {'id': 53, 'orth': 'market', 'space': ' ', 'tag': 'NN', 'pos': 'NOUN', 'morph': 'Number=Sing', 'lemma': 'market', 'head': -1, 'dep': 'pobj', 'ner': 'O'}, {'id': 54, 'orth': 'of', 'space': ' ', 'tag': 'IN', 'pos': 'ADP', 'morph': '', 'lemma': 'of', 'head': -1, 'dep': 'prep', 'ner': 'O'}, {'id': 55, 'orth': 'data', 'space': ' ', 'tag': 'NN', 'pos': 'NOUN', 'morph': 'Number=Sing', 'lemma': 'data', 'head': 1, 'dep': 'compound', 'ner': 'B-post'}, {'id': 56, 'orth': 'science', 'space': '', 'tag': 'NN', 'pos': 'NOUN', 'morph': 'Number=Sing', 'lemma': 'science', 'head': -2, 'dep': 'pobj', 'ner': 'L-post'}, {'id': 57, 'orth': '.', 'space': ' ', 'tag': '.', 'pos': 'PUNCT', 'morph': 'PunctType=Peri', 'lemma': '.', 'head': -9, 'dep': 'punct', 'ner': 'O'}], 'brackets': []}, {'tokens': [{'id': 58, 'orth': 'I', 'space': ' ', 'tag': 'PRP', 'pos': 'PRON', 'morph': 'Case=Nom|Number=Sing|Person=1|PronType=Prs', 'lemma': 'I', 'head': 1, 'dep': 'nsubj', 'ner': 'O'}, {'id': 59, 'orth': 'hope', 'space': ' ', 'tag': 'VBP', 'pos': 'VERB', 'morph': 'Tense=Pres|VerbForm=Fin', 'lemma': 'hope', 'head': 0, 'dep': 'ROOT', 'ner': 'O'}, {'id': 60, 'orth': 'every', 'space': ' ', 'tag': 'DT', 'pos': 'DET', 'morph': '', 'lemma': 'every', 'head': 1, 'dep': 'det', 'ner': 'O'}, {'id': 61, 'orth': 'one', 'space': ' ', 'tag': 'NN', 'pos': 'NOUN', 'morph': 'Number=Sing', 'lemma': 'one', 'head': 2, 'dep': 'nsubj', 'ner': 'O'}, {'id': 62, 'orth': 'will', 'space': ' ', 'tag': 'MD', 'pos': 'AUX', 'morph': 'VerbForm=Fin', 'lemma': 'will', 'head': 1, 'dep': 'aux', 'ner': 'O'}, {'id': 63, 'orth': 'get', 'space': ' ', 'tag': 'VB', 'pos': 'VERB', 'morph': 'VerbForm=Inf', 'lemma': 'get', 'head': -4, 'dep': 'ccomp', 'ner': 'O'}, {'id': 64, 'orth': 'in', 'space': ' ', 'tag': 'IN', 'pos': 'ADP', 'morph': '', 'lemma': 'in', 'head': -1, 'dep': 'prep', 'ner': 'O'}, {'id': 65, 'orth': 'touch', 'space': ' ', 'tag': 'NN', 'pos': 'NOUN', 'morph': 'Number=Sing', 'lemma': 'touch', 'head': -1, 'dep': 'pobj', 'ner': 'O'}, {'id': 66, 'orth': 'with', 'space': ' ', 'tag': 'IN', 'pos': 'ADP', 'morph': '', 'lemma': 'with', 'head': -3, 'dep': 'prep', 'ner': 'O'}, {'id': 67, 'orth': 'me', 'space': ' ', 'tag': 'PRP', 'pos': 'PRON', 'morph': 'Case=Acc|Number=Sing|Person=1|PronType=Prs', 'lemma': 'I', 'head': -1, 'dep': 'pobj', 'ner': 'O'}, {'id': 68, 'orth': 'soon', 'space': ' ', 'tag': 'RB', 'pos': 'ADV', 'morph': '', 'lemma': 'soon', 'head': -5, 'dep': 'advmod', 'ner': 'O'}, {'id': 69, 'orth': 'on', 'space': ' ', 'tag': 'IN', 'pos': 'ADP', 'morph': '', 'lemma': 'on', 'head': -6, 'dep': 'prep', 'ner': 'O'}, {'id': 70, 'orth': 'the', 'space': ' ', 'tag': 'DT', 'pos': 'DET', 'morph': 'Definite=Def|PronType=Art', 'lemma': 'the', 'head': 1, 'dep': 'det', 'ner': 'O'}, {'id': 71, 'orth': '9574875143', 'space': ' ', 'tag': 'CD', 'pos': 'NUM', 'morph': 'NumType=Card', 'lemma': '9574875143', 'head': -2, 'dep': 'pobj', 'ner': 'O'}, {'id': 72, 'orth': 'this', 'space': ' ', 'tag': 'DT', 'pos': 'DET', 'morph': 'Number=Sing|PronType=Dem', 'lemma': 'this', 'head': 1, 'dep': 'det', 'ner': 'O'}, {'id': 73, 'orth': 'number', 'space': '', 'tag': 'NN', 'pos': 'NOUN', 'morph': 'Number=Sing', 'lemma': 'number', 'head': -10, 'dep': 'npadvmod', 'ner': 'O'}, {'id': 74, 'orth': '.', 'space': ' ', 'tag': '.', 'pos': 'PUNCT', 'morph': 'PunctType=Peri', 'lemma': '.', 'head': -15, 'dep': 'punct', 'ner': 'O'}], 'brackets': []}, {'tokens': [{'id': 75, 'orth': 'This', 'space': ' ', 'tag': 'DT', 'pos': 'PRON', 'morph': 'Number=Sing|PronType=Dem', 'lemma': 'this', 'head': 1, 'dep': 'nsubj', 'ner': 'O'}, {'id': 76, 'orth': 'is', 'space': ' ', 'tag': 'VBZ', 'pos': 'AUX', 'morph': 'Mood=Ind|Number=Sing|Person=3|Tense=Pres|VerbForm=Fin', 'lemma': 'be', 'head': 0, 'dep': 'ROOT', 'ner': 'O'}, {'id': 77, 'orth': 'not', 'space': ' ', 'tag': 'RB', 'pos': 'PART', 'morph': 'Polarity=Neg', 'lemma': 'not', 'head': -1, 'dep': 'neg', 'ner': 'O'}, {'id': 78, 'orth': 'my', 'space': ' ', 'tag': 'PRP$', 'pos': 'PRON', 'morph': 'Number=Sing|Person=1|Poss=Yes|PronType=Prs', 'lemma': 'my', 'head': 2, 'dep': 'poss', 'ner': 'O'}, {'id': 79, 'orth': 'personal', 'space': ' ', 'tag': 'JJ', 'pos': 'ADJ', 'morph': 'Degree=Pos', 'lemma': 'personal', 'head': 1, 'dep': 'amod', 'ner': 'O'}, {'id': 80, 'orth': 'number', 'space': ' ', 'tag': 'NN', 'pos': 'NOUN', 'morph': 'Number=Sing', 'lemma': 'number', 'head': -4, 'dep': 'attr', 'ner': 'O'}, {'id': 81, 'orth': 'so', 'space': ' ', 'tag': 'RB', 'pos': 'ADV', 'morph': '', 'lemma': 'so', 'head': 3, 'dep': 'advmod', 'ner': 'O'}, {'id': 82, 'orth': 'do', 'space': '', 'tag': 'VBP', 'pos': 'AUX', 'morph': 'Mood=Ind|Tense=Pres|VerbForm=Fin', 'lemma': 'do', 'head': 2, 'dep': 'aux', 'ner': 'O'}, {'id': 83, 'orth': 'nt', 'space': ' ', 'tag': 'RB', 'pos': 'PART', 'morph': '', 'lemma': 'not', 'head': 1, 'dep': 'neg', 'ner': 'O'}, {'id': 84, 'orth': 'call', 'space': '', 'tag': 'VB', 'pos': 'VERB', 'morph': 'VerbForm=Inf', 'lemma': 'call', 'head': -8, 'dep': 'advcl', 'ner': 'O'}, {'id': 85, 'orth': '.', 'space': ' ', 'tag': '.', 'pos': 'PUNCT', 'morph': 'PunctType=Peri', 'lemma': '.', 'head': -1, 'dep': 'punct', 'ner': 'O'}], 'brackets': []}, {'tokens': [{'id': 86, 'orth': 'Hahaha', 'space': '', 'tag': 'NNP', 'pos': 'PROPN', 'morph': 'Number=Sing', 'lemma': 'Hahaha', 'head': 0, 'dep': 'ROOT', 'ner': 'O'}, {'id': 87, 'orth': '\\n \\n', 'space': '', 'tag': '_SP', 'pos': 'SPACE', 'morph': '', 'lemma': '\\n \\n', 'head': -1, 'dep': 'dep', 'ner': 'O'}], 'brackets': []}], 'cats': [], 'entities': [(0, 4, 'person'), (67, 76, 'geo'), (153, 157, 'person'), (198, 210, 'post'), (259, 271, 'post')], 'links': []}, {'raw': 'Vijay is from the city of Pune. From last 2 years he has shifted to bangalore city.bangalore is really good city and there are not pythons here.I request Ajay A to shift to pune if possible. He is a data analyst person.There is really high demand in market of data science. I hope every one will get in touch with me soon on the this number. This is not my personal number so dont call. Hahaha\\n \\n', 'sentences': [{'tokens': [{'id': 0, 'orth': 'Vijay', 'space': ' ', 'tag': 'NNP', 'pos': 'PROPN', 'morph': 'Number=Sing', 'lemma': 'Vijay', 'head': 1, 'dep': 'nsubj', 'ner': 'U-person'}, {'id': 1, 'orth': 'is', 'space': ' ', 'tag': 'VBZ', 'pos': 'AUX', 'morph': 'Mood=Ind|Number=Sing|Person=3|Tense=Pres|VerbForm=Fin', 'lemma': 'be', 'head': 0, 'dep': 'ROOT', 'ner': 'O'}, {'id': 2, 'orth': 'from', 'space': ' ', 'tag': 'IN', 'pos': 'ADP', 'morph': '', 'lemma': 'from', 'head': -1, 'dep': 'prep', 'ner': 'O'}, {'id': 3, 'orth': 'the', 'space': ' ', 'tag': 'DT', 'pos': 'DET', 'morph': 'Definite=Def|PronType=Art', 'lemma': 'the', 'head': 1, 'dep': 'det', 'ner': 'O'}, {'id': 4, 'orth': 'city', 'space': ' ', 'tag': 'NN', 'pos': 'NOUN', 'morph': 'Number=Sing', 'lemma': 'city', 'head': -2, 'dep': 'pobj', 'ner': 'O'}, {'id': 5, 'orth': 'of', 'space': ' ', 'tag': 'IN', 'pos': 'ADP', 'morph': '', 'lemma': 'of', 'head': -1, 'dep': 'prep', 'ner': 'O'}, {'id': 6, 'orth': 'Pune', 'space': '', 'tag': 'NNP', 'pos': 'PROPN', 'morph': 'Number=Sing', 'lemma': 'Pune', 'head': -1, 'dep': 'pobj', 'ner': 'O'}, {'id': 7, 'orth': '.', 'space': ' ', 'tag': '.', 'pos': 'PUNCT', 'morph': 'PunctType=Peri', 'lemma': '.', 'head': -6, 'dep': 'punct', 'ner': 'O'}], 'brackets': []}, {'tokens': [{'id': 8, 'orth': 'From', 'space': ' ', 'tag': 'IN', 'pos': 'ADP', 'morph': '', 'lemma': 'from', 'head': 6, 'dep': 'prep', 'ner': 'O'}, {'id': 9, 'orth': 'last', 'space': ' ', 'tag': 'JJ', 'pos': 'ADJ', 'morph': 'Degree=Pos', 'lemma': 'last', 'head': 2, 'dep': 'amod', 'ner': 'O'}, {'id': 10, 'orth': '2', 'space': ' ', 'tag': 'CD', 'pos': 'NUM', 'morph': 'NumType=Card', 'lemma': '2', 'head': 1, 'dep': 'nummod', 'ner': 'O'}, {'id': 11, 'orth': 'years', 'space': ' ', 'tag': 'NNS', 'pos': 'NOUN', 'morph': 'Number=Plur', 'lemma': 'year', 'head': -3, 'dep': 'pobj', 'ner': 'O'}, {'id': 12, 'orth': 'he', 'space': ' ', 'tag': 'PRP', 'pos': 'PRON', 'morph': 'Case=Nom|Gender=Masc|Number=Sing|Person=3|PronType=Prs', 'lemma': 'he', 'head': 2, 'dep': 'nsubj', 'ner': 'O'}, {'id': 13, 'orth': 'has', 'space': ' ', 'tag': 'VBZ', 'pos': 'AUX', 'morph': 'Mood=Ind|Number=Sing|Person=3|Tense=Pres|VerbForm=Fin', 'lemma': 'have', 'head': 1, 'dep': 'aux', 'ner': 'O'}, {'id': 14, 'orth': 'shifted', 'space': ' ', 'tag': 'VBN', 'pos': 'VERB', 'morph': 'Aspect=Perf|Tense=Past|VerbForm=Part', 'lemma': 'shift', 'head': 0, 'dep': 'ROOT', 'ner': 'O'}, {'id': 15, 'orth': 'to', 'space': ' ', 'tag': 'TO', 'pos': 'PART', 'morph': '', 'lemma': 'to', 'head': 1, 'dep': 'aux', 'ner': 'O'}, {'id': 16, 'orth': 'bangalore', 'space': ' ', 'tag': 'VB', 'pos': 'VERB', 'morph': 'VerbForm=Inf', 'lemma': 'bangalore', 'head': -2, 'dep': 'xcomp', 'ner': 'O'}, {'id': 17, 'orth': 'city.bangalore', 'space': ' ', 'tag': 'XX', 'pos': 'X', 'morph': '', 'lemma': 'city.bangalore', 'head': -1, 'dep': 'dobj', 'ner': 'O'}, {'id': 18, 'orth': 'is', 'space': ' ', 'tag': 'VBZ', 'pos': 'AUX', 'morph': 'Mood=Ind|Number=Sing|Person=3|Tense=Pres|VerbForm=Fin', 'lemma': 'be', 'head': -4, 'dep': 'conj', 'ner': 'O'}, {'id': 19, 'orth': 'really', 'space': ' ', 'tag': 'RB', 'pos': 'ADV', 'morph': '', 'lemma': 'really', 'head': -1, 'dep': 'advmod', 'ner': 'O'}, {'id': 20, 'orth': 'good', 'space': ' ', 'tag': 'JJ', 'pos': 'ADJ', 'morph': 'Degree=Pos', 'lemma': 'good', 'head': 1, 'dep': 'amod', 'ner': 'O'}, {'id': 21, 'orth': 'city', 'space': ' ', 'tag': 'NN', 'pos': 'NOUN', 'morph': 'Number=Sing', 'lemma': 'city', 'head': -3, 'dep': 'attr', 'ner': 'O'}, {'id': 22, 'orth': 'and', 'space': ' ', 'tag': 'CC', 'pos': 'CCONJ', 'morph': 'ConjType=Cmp', 'lemma': 'and', 'head': -8, 'dep': 'cc', 'ner': 'O'}, {'id': 23, 'orth': 'there', 'space': ' ', 'tag': 'EX', 'pos': 'PRON', 'morph': '', 'lemma': 'there', 'head': 1, 'dep': 'expl', 'ner': 'O'}, {'id': 24, 'orth': 'are', 'space': ' ', 'tag': 'VBP', 'pos': 'VERB', 'morph': 'Mood=Ind|Tense=Pres|VerbForm=Fin', 'lemma': 'be', 'head': -10, 'dep': 'conj', 'ner': 'O'}, {'id': 25, 'orth': 'not', 'space': ' ', 'tag': 'RB', 'pos': 'PART', 'morph': 'Polarity=Neg', 'lemma': 'not', 'head': -1, 'dep': 'neg', 'ner': 'O'}, {'id': 26, 'orth': 'pythons', 'space': ' ', 'tag': 'NNS', 'pos': 'NOUN', 'morph': 'Number=Plur', 'lemma': 'python', 'head': -2, 'dep': 'attr', 'ner': 'O'}, {'id': 27, 'orth': 'here', 'space': '', 'tag': 'RB', 'pos': 'ADV', 'morph': 'PronType=Dem', 'lemma': 'here', 'head': -1, 'dep': 'advmod', 'ner': 'O'}, {'id': 28, 'orth': '.', 'space': '', 'tag': '.', 'pos': 'PUNCT', 'morph': 'PunctType=Peri', 'lemma': '.', 'head': -14, 'dep': 'punct', 'ner': 'O'}], 'brackets': []}, {'tokens': [{'id': 29, 'orth': 'I', 'space': ' ', 'tag': 'PRP', 'pos': 'PRON', 'morph': 'Case=Nom|Number=Sing|Person=1|PronType=Prs', 'lemma': 'I', 'head': 1, 'dep': 'nsubj', 'ner': 'O'}, {'id': 30, 'orth': 'request', 'space': ' ', 'tag': 'VBP', 'pos': 'VERB', 'morph': 'Tense=Pres|VerbForm=Fin', 'lemma': 'request', 'head': 0, 'dep': 'ROOT', 'ner': 'O'}, {'id': 31, 'orth': 'Ajay', 'space': ' ', 'tag': 'NNP', 'pos': 'PROPN', 'morph': 'Number=Sing', 'lemma': 'Ajay', 'head': 1, 'dep': 'compound', 'ner': 'O'}, {'id': 32, 'orth': 'A', 'space': ' ', 'tag': 'NN', 'pos': 'NOUN', 'morph': 'Number=Sing', 'lemma': 'a', 'head': -2, 'dep': 'dobj', 'ner': 'O'}, {'id': 33, 'orth': 'to', 'space': ' ', 'tag': 'TO', 'pos': 'PART', 'morph': '', 'lemma': 'to', 'head': 1, 'dep': 'aux', 'ner': 'O'}, {'id': 34, 'orth': 'shift', 'space': ' ', 'tag': 'VB', 'pos': 'VERB', 'morph': 'VerbForm=Inf', 'lemma': 'shift', 'head': -4, 'dep': 'xcomp', 'ner': 'O'}, {'id': 35, 'orth': 'to', 'space': ' ', 'tag': 'IN', 'pos': 'ADP', 'morph': '', 'lemma': 'to', 'head': -1, 'dep': 'prep', 'ner': 'O'}, {'id': 36, 'orth': 'pune', 'space': ' ', 'tag': 'NN', 'pos': 'NOUN', 'morph': 'Number=Sing', 'lemma': 'pune', 'head': -1, 'dep': 'pobj', 'ner': 'O'}, {'id': 37, 'orth': 'if', 'space': ' ', 'tag': 'IN', 'pos': 'SCONJ', 'morph': '', 'lemma': 'if', 'head': 1, 'dep': 'mark', 'ner': 'O'}, {'id': 38, 'orth': 'possible', 'space': '', 'tag': 'JJ', 'pos': 'ADJ', 'morph': 'Degree=Pos', 'lemma': 'possible', 'head': -4, 'dep': 'advcl', 'ner': 'O'}, {'id': 39, 'orth': '.', 'space': ' ', 'tag': '.', 'pos': 'PUNCT', 'morph': 'PunctType=Peri', 'lemma': '.', 'head': -9, 'dep': 'punct', 'ner': 'O'}], 'brackets': []}, {'tokens': [{'id': 40, 'orth': 'He', 'space': ' ', 'tag': 'PRP', 'pos': 'PRON', 'morph': 'Case=Nom|Gender=Masc|Number=Sing|Person=3|PronType=Prs', 'lemma': 'he', 'head': 1, 'dep': 'nsubj', 'ner': 'O'}, {'id': 41, 'orth': 'is', 'space': ' ', 'tag': 'VBZ', 'pos': 'AUX', 'morph': 'Mood=Ind|Number=Sing|Person=3|Tense=Pres|VerbForm=Fin', 'lemma': 'be', 'head': 0, 'dep': 'ROOT', 'ner': 'O'}, {'id': 42, 'orth': 'a', 'space': ' ', 'tag': 'DT', 'pos': 'DET', 'morph': 'Definite=Ind|PronType=Art', 'lemma': 'a', 'head': 3, 'dep': 'det', 'ner': 'O'}, {'id': 43, 'orth': 'data', 'space': ' ', 'tag': 'NNS', 'pos': 'NOUN', 'morph': 'Number=Plur', 'lemma': 'datum', 'head': 1, 'dep': 'compound', 'ner': 'O'}, {'id': 44, 'orth': 'analyst', 'space': ' ', 'tag': 'NN', 'pos': 'NOUN', 'morph': 'Number=Sing', 'lemma': 'analyst', 'head': 1, 'dep': 'compound', 'ner': 'U-post'}, {'id': 45, 'orth': 'person', 'space': '', 'tag': 'NN', 'pos': 'NOUN', 'morph': 'Number=Sing', 'lemma': 'person', 'head': -4, 'dep': 'attr', 'ner': 'O'}, {'id': 46, 'orth': '.', 'space': '', 'tag': '.', 'pos': 'PUNCT', 'morph': 'PunctType=Peri', 'lemma': '.', 'head': -5, 'dep': 'punct', 'ner': 'O'}], 'brackets': []}, {'tokens': [{'id': 47, 'orth': 'There', 'space': ' ', 'tag': 'EX', 'pos': 'PRON', 'morph': '', 'lemma': 'there', 'head': 1, 'dep': 'expl', 'ner': 'O'}, {'id': 48, 'orth': 'is', 'space': ' ', 'tag': 'VBZ', 'pos': 'VERB', 'morph': 'Mood=Ind|Number=Sing|Person=3|Tense=Pres|VerbForm=Fin', 'lemma': 'be', 'head': 0, 'dep': 'ROOT', 'ner': 'O'}, {'id': 49, 'orth': 'really', 'space': ' ', 'tag': 'RB', 'pos': 'ADV', 'morph': '', 'lemma': 'really', 'head': 1, 'dep': 'advmod', 'ner': 'O'}, {'id': 50, 'orth': 'high', 'space': ' ', 'tag': 'JJ', 'pos': 'ADJ', 'morph': 'Degree=Pos', 'lemma': 'high', 'head': 1, 'dep': 'amod', 'ner': 'O'}, {'id': 51, 'orth': 'demand', 'space': ' ', 'tag': 'NN', 'pos': 'NOUN', 'morph': 'Number=Sing', 'lemma': 'demand', 'head': -3, 'dep': 'attr', 'ner': 'O'}, {'id': 52, 'orth': 'in', 'space': ' ', 'tag': 'IN', 'pos': 'ADP', 'morph': '', 'lemma': 'in', 'head': -1, 'dep': 'prep', 'ner': 'O'}, {'id': 53, 'orth': 'market', 'space': ' ', 'tag': 'NN', 'pos': 'NOUN', 'morph': 'Number=Sing', 'lemma': 'market', 'head': -1, 'dep': 'pobj', 'ner': 'O'}, {'id': 54, 'orth': 'of', 'space': ' ', 'tag': 'IN', 'pos': 'ADP', 'morph': '', 'lemma': 'of', 'head': -1, 'dep': 'prep', 'ner': 'O'}, {'id': 55, 'orth': 'data', 'space': ' ', 'tag': 'NN', 'pos': 'NOUN', 'morph': 'Number=Sing', 'lemma': 'data', 'head': 1, 'dep': 'compound', 'ner': 'O'}, {'id': 56, 'orth': 'science', 'space': '', 'tag': 'NN', 'pos': 'NOUN', 'morph': 'Number=Sing', 'lemma': 'science', 'head': -2, 'dep': 'pobj', 'ner': 'O'}, {'id': 57, 'orth': '.', 'space': ' ', 'tag': '.', 'pos': 'PUNCT', 'morph': 'PunctType=Peri', 'lemma': '.', 'head': -9, 'dep': 'punct', 'ner': 'O'}], 'brackets': []}, {'tokens': [{'id': 58, 'orth': 'I', 'space': ' ', 'tag': 'PRP', 'pos': 'PRON', 'morph': 'Case=Nom|Number=Sing|Person=1|PronType=Prs', 'lemma': 'I', 'head': 1, 'dep': 'nsubj', 'ner': 'O'}, {'id': 59, 'orth': 'hope', 'space': ' ', 'tag': 'VBP', 'pos': 'VERB', 'morph': 'Tense=Pres|VerbForm=Fin', 'lemma': 'hope', 'head': 0, 'dep': 'ROOT', 'ner': 'O'}, {'id': 60, 'orth': 'every', 'space': ' ', 'tag': 'DT', 'pos': 'DET', 'morph': '', 'lemma': 'every', 'head': 1, 'dep': 'det', 'ner': 'O'}, {'id': 61, 'orth': 'one', 'space': ' ', 'tag': 'NN', 'pos': 'NOUN', 'morph': 'Number=Sing', 'lemma': 'one', 'head': 2, 'dep': 'nsubj', 'ner': 'O'}, {'id': 62, 'orth': 'will', 'space': ' ', 'tag': 'MD', 'pos': 'AUX', 'morph': 'VerbForm=Fin', 'lemma': 'will', 'head': 1, 'dep': 'aux', 'ner': 'O'}, {'id': 63, 'orth': 'get', 'space': ' ', 'tag': 'VB', 'pos': 'VERB', 'morph': 'VerbForm=Inf', 'lemma': 'get', 'head': -4, 'dep': 'ccomp', 'ner': 'O'}, {'id': 64, 'orth': 'in', 'space': ' ', 'tag': 'IN', 'pos': 'ADP', 'morph': '', 'lemma': 'in', 'head': -1, 'dep': 'prep', 'ner': 'O'}, {'id': 65, 'orth': 'touch', 'space': ' ', 'tag': 'NN', 'pos': 'NOUN', 'morph': 'Number=Sing', 'lemma': 'touch', 'head': -1, 'dep': 'pobj', 'ner': 'O'}, {'id': 66, 'orth': 'with', 'space': ' ', 'tag': 'IN', 'pos': 'ADP', 'morph': '', 'lemma': 'with', 'head': -3, 'dep': 'prep', 'ner': 'O'}, {'id': 67, 'orth': 'me', 'space': ' ', 'tag': 'PRP', 'pos': 'PRON', 'morph': 'Case=Acc|Number=Sing|Person=1|PronType=Prs', 'lemma': 'I', 'head': -1, 'dep': 'pobj', 'ner': 'O'}, {'id': 68, 'orth': 'soon', 'space': ' ', 'tag': 'RB', 'pos': 'ADV', 'morph': '', 'lemma': 'soon', 'head': -5, 'dep': 'advmod', 'ner': 'O'}, {'id': 69, 'orth': 'on', 'space': ' ', 'tag': 'IN', 'pos': 'ADP', 'morph': '', 'lemma': 'on', 'head': -6, 'dep': 'prep', 'ner': 'O'}, {'id': 70, 'orth': 'the', 'space': ' ', 'tag': 'DT', 'pos': 'DET', 'morph': 'Definite=Def|PronType=Art', 'lemma': 'the', 'head': 2, 'dep': 'det', 'ner': 'O'}, {'id': 71, 'orth': 'this', 'space': ' ', 'tag': 'DT', 'pos': 'DET', 'morph': 'Number=Sing|PronType=Dem', 'lemma': 'this', 'head': 1, 'dep': 'det', 'ner': 'O'}, {'id': 72, 'orth': 'number', 'space': '', 'tag': 'NN', 'pos': 'NOUN', 'morph': 'Number=Sing', 'lemma': 'number', 'head': -3, 'dep': 'pobj', 'ner': 'O'}, {'id': 73, 'orth': '.', 'space': ' ', 'tag': '.', 'pos': 'PUNCT', 'morph': 'PunctType=Peri', 'lemma': '.', 'head': -14, 'dep': 'punct', 'ner': 'O'}], 'brackets': []}, {'tokens': [{'id': 74, 'orth': 'This', 'space': ' ', 'tag': 'DT', 'pos': 'PRON', 'morph': 'Number=Sing|PronType=Dem', 'lemma': 'this', 'head': 1, 'dep': 'nsubj', 'ner': 'O'}, {'id': 75, 'orth': 'is', 'space': ' ', 'tag': 'VBZ', 'pos': 'AUX', 'morph': 'Mood=Ind|Number=Sing|Person=3|Tense=Pres|VerbForm=Fin', 'lemma': 'be', 'head': 0, 'dep': 'ROOT', 'ner': 'O'}, {'id': 76, 'orth': 'not', 'space': ' ', 'tag': 'RB', 'pos': 'PART', 'morph': 'Polarity=Neg', 'lemma': 'not', 'head': -1, 'dep': 'neg', 'ner': 'O'}, {'id': 77, 'orth': 'my', 'space': ' ', 'tag': 'PRP$', 'pos': 'PRON', 'morph': 'Number=Sing|Person=1|Poss=Yes|PronType=Prs', 'lemma': 'my', 'head': 2, 'dep': 'poss', 'ner': 'O'}, {'id': 78, 'orth': 'personal', 'space': ' ', 'tag': 'JJ', 'pos': 'ADJ', 'morph': 'Degree=Pos', 'lemma': 'personal', 'head': 1, 'dep': 'amod', 'ner': 'O'}, {'id': 79, 'orth': 'number', 'space': ' ', 'tag': 'NN', 'pos': 'NOUN', 'morph': 'Number=Sing', 'lemma': 'number', 'head': -4, 'dep': 'attr', 'ner': 'O'}, {'id': 80, 'orth': 'so', 'space': ' ', 'tag': 'RB', 'pos': 'ADV', 'morph': '', 'lemma': 'so', 'head': 3, 'dep': 'advmod', 'ner': 'O'}, {'id': 81, 'orth': 'do', 'space': '', 'tag': 'VBP', 'pos': 'AUX', 'morph': 'Mood=Ind|Tense=Pres|VerbForm=Fin', 'lemma': 'do', 'head': 2, 'dep': 'aux', 'ner': 'O'}, {'id': 82, 'orth': 'nt', 'space': ' ', 'tag': 'RB', 'pos': 'PART', 'morph': '', 'lemma': 'not', 'head': 1, 'dep': 'neg', 'ner': 'O'}, {'id': 83, 'orth': 'call', 'space': '', 'tag': 'VB', 'pos': 'VERB', 'morph': 'VerbForm=Inf', 'lemma': 'call', 'head': -8, 'dep': 'advcl', 'ner': 'O'}, {'id': 84, 'orth': '.', 'space': ' ', 'tag': '.', 'pos': 'PUNCT', 'morph': 'PunctType=Peri', 'lemma': '.', 'head': -1, 'dep': 'punct', 'ner': 'O'}], 'brackets': []}, {'tokens': [{'id': 85, 'orth': 'Hahaha', 'space': '', 'tag': 'NNP', 'pos': 'PROPN', 'morph': 'Number=Sing', 'lemma': 'Hahaha', 'head': 0, 'dep': 'ROOT', 'ner': 'O'}, {'id': 86, 'orth': '\\n \\n', 'space': '', 'tag': '_SP', 'pos': 'SPACE', 'morph': '', 'lemma': '\\n \\n', 'head': -1, 'dep': 'dep', 'ner': 'O'}], 'brackets': []}], 'cats': [], 'entities': [(0, 5, 'person'), (204, 211, 'post')], 'links': []}]}\n"
     ]
    }
   ],
   "source": [
    "# Refernece: https://stackoverflow.com/questions/59200123/converting-spacy-training-data-format-to-spacy-cli-format-for-blank-ner/59209377#59209377\n",
    "\n",
    "# python -m spacy download en_core_web_sm\n",
    "nlp = spacy.load('en_core_web_sm') \n",
    "docs = []\n",
    "for text, annot in spacy_ner_data:\n",
    "    doc = nlp(text)\n",
    "    tags = spacy.training.offsets_to_biluo_tags(doc, annot['entities'])\n",
    "    entities = spacy.training.biluo_tags_to_spans(doc, tags)\n",
    "    # Convert L->I and U->B to have IOB tags for the tokens in the doc\n",
    "    \n",
    "    doc.ents = entities\n",
    "    docs.append(doc)\n",
    "\n",
    "tag_data = spacy.training.docs_to_json(docs[0:2])\n",
    "\n",
    "print(tag_data) ## Check output on http://jsonviewer.stack.hu/"
   ]
  },
  {
   "cell_type": "code",
   "execution_count": 186,
   "metadata": {
    "scrolled": true
   },
   "outputs": [
    {
     "data": {
      "text/plain": [
       "0"
      ]
     },
     "execution_count": 186,
     "metadata": {},
     "output_type": "execute_result"
    }
   ],
   "source": [
    "tag_data['id']"
   ]
  },
  {
   "cell_type": "code",
   "execution_count": 188,
   "metadata": {},
   "outputs": [
    {
     "name": "stdout",
     "output_type": "stream",
     "text": [
      "2\n",
      "Ajay\n",
      "U-person\n"
     ]
    }
   ],
   "source": [
    "print(len(tag_data))\n",
    "print(tag_data['paragraphs'][0]['sentences'][0]['tokens'][0]['orth'])\n",
    "print(tag_data['paragraphs'][0]['sentences'][0]['tokens'][0]['ner'])"
   ]
  },
  {
   "cell_type": "code",
   "execution_count": 204,
   "metadata": {},
   "outputs": [
    {
     "data": {
      "text/plain": [
       "'U-person'"
      ]
     },
     "execution_count": 204,
     "metadata": {},
     "output_type": "execute_result"
    }
   ],
   "source": [
    "\n",
    "str1 = 'U-person'\n",
    "str1.replace(\"U-\",\"B-\")\n",
    "str1"
   ]
  },
  {
   "cell_type": "code",
   "execution_count": 208,
   "metadata": {},
   "outputs": [],
   "source": [
    "def spacy_to_iob_format(spacy_data):\n",
    "    # Refernece: https://stackoverflow.com/questions/59200123/converting-spacy-training-data-format-to-spacy-cli-format-for-blank-ner/59209377#59209377\n",
    "\n",
    "    # python -m spacy download en_core_web_sm\n",
    "    nlp = spacy.load('en_core_web_sm') \n",
    "    docs = []\n",
    "    for text, annot in spacy_data:\n",
    "        doc = nlp(text)\n",
    "        tags = spacy.training.offsets_to_biluo_tags(doc, annot['entities'])\n",
    "        entities = spacy.training.biluo_tags_to_spans(doc, tags)\n",
    "        # Convert L->I and U->B to have IOB tags for the tokens in the doc\n",
    "\n",
    "        doc.ents = entities\n",
    "        docs.append(doc)\n",
    "\n",
    "    tag_data = spacy.training.docs_to_json(docs)\n",
    "    \n",
    "    # Create empty dataframe for final iob output\n",
    "    df_op_iob = pd.DataFrame()\n",
    "    \n",
    "    for i_para in range(len(tag_data['paragraphs'])):\n",
    "        for i_sent in range(len(tag_data['paragraphs'][i_para]['sentences'])):\n",
    "            for i_tok in range(len(tag_data['paragraphs'][i_para]['sentences'][i_sent]['tokens'])):\n",
    "                doc_id = i_para # each document is one paragraphs\n",
    "                word = tag_data['paragraphs'][i_para]['sentences'][i_sent]['tokens'][i_tok]['orth']\n",
    "                tag = tag_data['paragraphs'][i_para]['sentences'][i_sent]['tokens'][i_tok]['ner']\n",
    "                # Convert L->I and U->B to have IOB tags for the tokens in the doc\n",
    "                tag = tag.replace(\"L-\",\"I-\")\n",
    "                tag = tag.replace(\"U-\",\"B-\")\n",
    "                #print(i_para,'>>',word, '>>', tag)\n",
    "                df_op_iob = df_op_iob.append({'doc_id': doc_id, \n",
    "                                              'word': word,\n",
    "                                              'ner_tag': tag\n",
    "                                             }, ignore_index=True) \n",
    "    \n",
    "    return df_op_iob"
   ]
  },
  {
   "cell_type": "code",
   "execution_count": 216,
   "metadata": {},
   "outputs": [
    {
     "name": "stderr",
     "output_type": "stream",
     "text": [
      "C:\\ProgramData\\Anaconda3\\lib\\site-packages\\spacy\\training\\iob_utils.py:141: UserWarning: [W030] Some entities could not be aligned in the text \"Ajay is from the city of Pune. From last 2 years h...\" with entities \"[(0, 4, 'person'), (153, 157, 'person'), (67, 76, ...\". Use `spacy.training.offsets_to_biluo_tags(nlp.make_doc(text), entities)` to check the alignment. Misaligned entities ('-') will be ignored during training.\n",
      "  warnings.warn(\n",
      "C:\\ProgramData\\Anaconda3\\lib\\site-packages\\spacy\\training\\iob_utils.py:141: UserWarning: [W030] Some entities could not be aligned in the text \"Mohan is from the city of kolkattA. From last 2 ye...\" with entities \"[(26, 34, 'geo'), (178, 186, 'geo')]\". Use `spacy.training.offsets_to_biluo_tags(nlp.make_doc(text), entities)` to check the alignment. Misaligned entities ('-') will be ignored during training.\n",
      "  warnings.warn(\n"
     ]
    },
    {
     "data": {
      "text/html": [
       "<div>\n",
       "<style scoped>\n",
       "    .dataframe tbody tr th:only-of-type {\n",
       "        vertical-align: middle;\n",
       "    }\n",
       "\n",
       "    .dataframe tbody tr th {\n",
       "        vertical-align: top;\n",
       "    }\n",
       "\n",
       "    .dataframe thead th {\n",
       "        text-align: right;\n",
       "    }\n",
       "</style>\n",
       "<table border=\"1\" class=\"dataframe\">\n",
       "  <thead>\n",
       "    <tr style=\"text-align: right;\">\n",
       "      <th></th>\n",
       "      <th>doc_id</th>\n",
       "      <th>ner_tag</th>\n",
       "      <th>word</th>\n",
       "    </tr>\n",
       "  </thead>\n",
       "  <tbody>\n",
       "    <tr>\n",
       "      <th>0</th>\n",
       "      <td>0.0</td>\n",
       "      <td>B-person</td>\n",
       "      <td>Ajay</td>\n",
       "    </tr>\n",
       "    <tr>\n",
       "      <th>1</th>\n",
       "      <td>0.0</td>\n",
       "      <td>O</td>\n",
       "      <td>is</td>\n",
       "    </tr>\n",
       "    <tr>\n",
       "      <th>2</th>\n",
       "      <td>0.0</td>\n",
       "      <td>O</td>\n",
       "      <td>from</td>\n",
       "    </tr>\n",
       "    <tr>\n",
       "      <th>3</th>\n",
       "      <td>0.0</td>\n",
       "      <td>O</td>\n",
       "      <td>the</td>\n",
       "    </tr>\n",
       "    <tr>\n",
       "      <th>4</th>\n",
       "      <td>0.0</td>\n",
       "      <td>O</td>\n",
       "      <td>city</td>\n",
       "    </tr>\n",
       "    <tr>\n",
       "      <th>...</th>\n",
       "      <td>...</td>\n",
       "      <td>...</td>\n",
       "      <td>...</td>\n",
       "    </tr>\n",
       "    <tr>\n",
       "      <th>608</th>\n",
       "      <td>6.0</td>\n",
       "      <td>O</td>\n",
       "      <td>do</td>\n",
       "    </tr>\n",
       "    <tr>\n",
       "      <th>609</th>\n",
       "      <td>6.0</td>\n",
       "      <td>O</td>\n",
       "      <td>nt</td>\n",
       "    </tr>\n",
       "    <tr>\n",
       "      <th>610</th>\n",
       "      <td>6.0</td>\n",
       "      <td>O</td>\n",
       "      <td>call</td>\n",
       "    </tr>\n",
       "    <tr>\n",
       "      <th>611</th>\n",
       "      <td>6.0</td>\n",
       "      <td>O</td>\n",
       "      <td>.</td>\n",
       "    </tr>\n",
       "    <tr>\n",
       "      <th>612</th>\n",
       "      <td>6.0</td>\n",
       "      <td>O</td>\n",
       "      <td>Hahaha</td>\n",
       "    </tr>\n",
       "  </tbody>\n",
       "</table>\n",
       "<p>613 rows × 3 columns</p>\n",
       "</div>"
      ],
      "text/plain": [
       "     doc_id   ner_tag    word\n",
       "0       0.0  B-person    Ajay\n",
       "1       0.0         O      is\n",
       "2       0.0         O    from\n",
       "3       0.0         O     the\n",
       "4       0.0         O    city\n",
       "..      ...       ...     ...\n",
       "608     6.0         O      do\n",
       "609     6.0         O      nt\n",
       "610     6.0         O    call\n",
       "611     6.0         O       .\n",
       "612     6.0         O  Hahaha\n",
       "\n",
       "[613 rows x 3 columns]"
      ]
     },
     "execution_count": 216,
     "metadata": {},
     "output_type": "execute_result"
    }
   ],
   "source": [
    "iob_ner_data = spacy_to_iob_format(spacy_ner_data)\n",
    "iob_ner_data"
   ]
  },
  {
   "cell_type": "code",
   "execution_count": 218,
   "metadata": {},
   "outputs": [
    {
     "data": {
      "text/html": [
       "<div>\n",
       "<style scoped>\n",
       "    .dataframe tbody tr th:only-of-type {\n",
       "        vertical-align: middle;\n",
       "    }\n",
       "\n",
       "    .dataframe tbody tr th {\n",
       "        vertical-align: top;\n",
       "    }\n",
       "\n",
       "    .dataframe thead th {\n",
       "        text-align: right;\n",
       "    }\n",
       "</style>\n",
       "<table border=\"1\" class=\"dataframe\">\n",
       "  <thead>\n",
       "    <tr style=\"text-align: right;\">\n",
       "      <th></th>\n",
       "      <th>doc_id</th>\n",
       "      <th>ner_tag</th>\n",
       "      <th>word</th>\n",
       "    </tr>\n",
       "  </thead>\n",
       "  <tbody>\n",
       "    <tr>\n",
       "      <th>175</th>\n",
       "      <td>2.0</td>\n",
       "      <td>B-person</td>\n",
       "      <td>Mohan</td>\n",
       "    </tr>\n",
       "    <tr>\n",
       "      <th>262</th>\n",
       "      <td>3.0</td>\n",
       "      <td>O</td>\n",
       "      <td>Mohan</td>\n",
       "    </tr>\n",
       "    <tr>\n",
       "      <th>350</th>\n",
       "      <td>4.0</td>\n",
       "      <td>O</td>\n",
       "      <td>Mohan</td>\n",
       "    </tr>\n",
       "  </tbody>\n",
       "</table>\n",
       "</div>"
      ],
      "text/plain": [
       "     doc_id   ner_tag   word\n",
       "175     2.0  B-person  Mohan\n",
       "262     3.0         O  Mohan\n",
       "350     4.0         O  Mohan"
      ]
     },
     "execution_count": 218,
     "metadata": {},
     "output_type": "execute_result"
    }
   ],
   "source": [
    "iob_ner_data[iob_ner_data['word']=='Mohan']"
   ]
  },
  {
   "cell_type": "code",
   "execution_count": 211,
   "metadata": {},
   "outputs": [
    {
     "data": {
      "text/plain": [
       "O           587\n",
       "B-person      8\n",
       "B-post        6\n",
       "B-geo         5\n",
       "I-post        5\n",
       "B-mo_no       2\n",
       "Name: ner_tag, dtype: int64"
      ]
     },
     "execution_count": 211,
     "metadata": {},
     "output_type": "execute_result"
    }
   ],
   "source": [
    "iob_ner_data['ner_tag'].value_counts()"
   ]
  },
  {
   "cell_type": "code",
   "execution_count": null,
   "metadata": {},
   "outputs": [],
   "source": []
  }
 ],
 "metadata": {
  "kernelspec": {
   "display_name": "Python 3",
   "language": "python",
   "name": "python3"
  },
  "language_info": {
   "codemirror_mode": {
    "name": "ipython",
    "version": 3
   },
   "file_extension": ".py",
   "mimetype": "text/x-python",
   "name": "python",
   "nbconvert_exporter": "python",
   "pygments_lexer": "ipython3",
   "version": "3.8.5"
  }
 },
 "nbformat": 4,
 "nbformat_minor": 4
}
